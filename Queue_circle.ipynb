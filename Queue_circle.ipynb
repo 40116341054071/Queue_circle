{
  "nbformat": 4,
  "nbformat_minor": 0,
  "metadata": {
    "colab": {
      "provenance": [],
      "authorship_tag": "ABX9TyNMxnlb2cx3rOTXXXHMlX2C",
      "include_colab_link": true
    },
    "kernelspec": {
      "name": "python3",
      "display_name": "Python 3"
    },
    "language_info": {
      "name": "python"
    }
  },
  "cells": [
    {
      "cell_type": "markdown",
      "metadata": {
        "id": "view-in-github",
        "colab_type": "text"
      },
      "source": [
        "<a href=\"https://colab.research.google.com/github/40116341054071/Queue_circle/blob/main/Queue_circle.ipynb\" target=\"_parent\"><img src=\"https://colab.research.google.com/assets/colab-badge.svg\" alt=\"Open In Colab\"/></a>"
      ]
    },
    {
      "cell_type": "code",
      "execution_count": null,
      "metadata": {
        "id": "li63yh-f44C6"
      },
      "outputs": [],
      "source": [
        "\n",
        "class Queue_c:\n",
        "  def __init__(self,k):\n",
        "    self.k = k\n",
        "    self.queue = [None]*k\n",
        "    self.front=-1\n",
        "    self.rear=-1\n",
        "#اضافه کردن به صف حلقوی\n",
        "\n",
        "  def insqueue_c(self,data):\n",
        "    if((self.rear+1)% self.k == self.front):\n",
        "      print(\"full\")\n",
        "    elif(self.front == -1):\n",
        "      self.front=0\n",
        "      self.rear=0\n",
        "      self.queue[self.rear]=data\n",
        "    else:\n",
        "      self.rear+=1\n",
        "      self.queue[self.rear]=data\n",
        "#پاک کردن از صف حلقوی\n",
        "\n",
        "  def delqueue(self):\n",
        "    if self.front==-1:\n",
        "      print(\"empty\")\n",
        "    elif self.front==self.rear:\n",
        "      t=self.queue[self.front]\n",
        "      self.front = -1\n",
        "      self.rear = -1\n",
        "      return t\n",
        "    else:\n",
        "      t=self.queue[self.front]\n",
        "      self.front = (self.front+1)% self.k\n",
        "      return t\n",
        "#نشان دادن صف حلقوی\n",
        "\n",
        "  def disqueue_c(self):\n",
        "    if self.front==-1:\n",
        "      print(\"empty\")\n",
        "    for i in range(self.front , self.rear+1):\n",
        "      print(self.queue[self.front])\n",
        "    else:\n",
        "      for i in range(self.front , self.k):\n",
        "        print(self.queue[i])\n",
        "      for j in range(self.rear+1):\n",
        "        print(self.queue[i])"
      ]
    }
  ]
}